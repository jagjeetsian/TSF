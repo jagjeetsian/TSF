{
 "cells": [
  {
   "cell_type": "markdown",
   "metadata": {},
   "source": [
    "# Author: Jagjeet Singh"
   ]
  },
  {
   "cell_type": "markdown",
   "metadata": {},
   "source": [
    "## Task 4"
   ]
  },
  {
   "cell_type": "markdown",
   "metadata": {},
   "source": [
    "### Perform ‘Exploratory Data Analysis’ on dataset ‘SampleSuperstore’"
   ]
  },
  {
   "cell_type": "markdown",
   "metadata": {},
   "source": [
    "### importing necessary libraries"
   ]
  },
  {
   "cell_type": "code",
   "execution_count": 1,
   "metadata": {},
   "outputs": [],
   "source": [
    "import pandas as pd\n",
    "import numpy as np\n",
    "import matplotlib.pyplot as plt\n",
    "import seaborn as sns\n",
    "%matplotlib inline"
   ]
  },
  {
   "cell_type": "markdown",
   "metadata": {},
   "source": [
    "### importing the data"
   ]
  },
  {
   "cell_type": "code",
   "execution_count": 2,
   "metadata": {},
   "outputs": [],
   "source": [
    "df=pd.read_csv('SampleSuperstore.csv')"
   ]
  },
  {
   "cell_type": "code",
   "execution_count": 3,
   "metadata": {},
   "outputs": [],
   "source": [
    "pd.set_option('display.max_columns',None)"
   ]
  },
  {
   "cell_type": "markdown",
   "metadata": {},
   "source": [
    "### taking a glance at the data"
   ]
  },
  {
   "cell_type": "code",
   "execution_count": 7,
   "metadata": {},
   "outputs": [
    {
     "data": {
      "text/html": [
       "<div>\n",
       "<style scoped>\n",
       "    .dataframe tbody tr th:only-of-type {\n",
       "        vertical-align: middle;\n",
       "    }\n",
       "\n",
       "    .dataframe tbody tr th {\n",
       "        vertical-align: top;\n",
       "    }\n",
       "\n",
       "    .dataframe thead th {\n",
       "        text-align: right;\n",
       "    }\n",
       "</style>\n",
       "<table border=\"1\" class=\"dataframe\">\n",
       "  <thead>\n",
       "    <tr style=\"text-align: right;\">\n",
       "      <th></th>\n",
       "      <th>Ship Mode</th>\n",
       "      <th>Segment</th>\n",
       "      <th>Country</th>\n",
       "      <th>City</th>\n",
       "      <th>State</th>\n",
       "      <th>Postal Code</th>\n",
       "      <th>Region</th>\n",
       "      <th>Category</th>\n",
       "      <th>Sub-Category</th>\n",
       "      <th>Sales</th>\n",
       "      <th>Quantity</th>\n",
       "      <th>Discount</th>\n",
       "      <th>Profit</th>\n",
       "    </tr>\n",
       "  </thead>\n",
       "  <tbody>\n",
       "    <tr>\n",
       "      <th>0</th>\n",
       "      <td>Second Class</td>\n",
       "      <td>Consumer</td>\n",
       "      <td>United States</td>\n",
       "      <td>Henderson</td>\n",
       "      <td>Kentucky</td>\n",
       "      <td>42420</td>\n",
       "      <td>South</td>\n",
       "      <td>Furniture</td>\n",
       "      <td>Bookcases</td>\n",
       "      <td>261.9600</td>\n",
       "      <td>2</td>\n",
       "      <td>0.00</td>\n",
       "      <td>41.9136</td>\n",
       "    </tr>\n",
       "    <tr>\n",
       "      <th>1</th>\n",
       "      <td>Second Class</td>\n",
       "      <td>Consumer</td>\n",
       "      <td>United States</td>\n",
       "      <td>Henderson</td>\n",
       "      <td>Kentucky</td>\n",
       "      <td>42420</td>\n",
       "      <td>South</td>\n",
       "      <td>Furniture</td>\n",
       "      <td>Chairs</td>\n",
       "      <td>731.9400</td>\n",
       "      <td>3</td>\n",
       "      <td>0.00</td>\n",
       "      <td>219.5820</td>\n",
       "    </tr>\n",
       "    <tr>\n",
       "      <th>2</th>\n",
       "      <td>Second Class</td>\n",
       "      <td>Corporate</td>\n",
       "      <td>United States</td>\n",
       "      <td>Los Angeles</td>\n",
       "      <td>California</td>\n",
       "      <td>90036</td>\n",
       "      <td>West</td>\n",
       "      <td>Office Supplies</td>\n",
       "      <td>Labels</td>\n",
       "      <td>14.6200</td>\n",
       "      <td>2</td>\n",
       "      <td>0.00</td>\n",
       "      <td>6.8714</td>\n",
       "    </tr>\n",
       "    <tr>\n",
       "      <th>3</th>\n",
       "      <td>Standard Class</td>\n",
       "      <td>Consumer</td>\n",
       "      <td>United States</td>\n",
       "      <td>Fort Lauderdale</td>\n",
       "      <td>Florida</td>\n",
       "      <td>33311</td>\n",
       "      <td>South</td>\n",
       "      <td>Furniture</td>\n",
       "      <td>Tables</td>\n",
       "      <td>957.5775</td>\n",
       "      <td>5</td>\n",
       "      <td>0.45</td>\n",
       "      <td>-383.0310</td>\n",
       "    </tr>\n",
       "    <tr>\n",
       "      <th>4</th>\n",
       "      <td>Standard Class</td>\n",
       "      <td>Consumer</td>\n",
       "      <td>United States</td>\n",
       "      <td>Fort Lauderdale</td>\n",
       "      <td>Florida</td>\n",
       "      <td>33311</td>\n",
       "      <td>South</td>\n",
       "      <td>Office Supplies</td>\n",
       "      <td>Storage</td>\n",
       "      <td>22.3680</td>\n",
       "      <td>2</td>\n",
       "      <td>0.20</td>\n",
       "      <td>2.5164</td>\n",
       "    </tr>\n",
       "  </tbody>\n",
       "</table>\n",
       "</div>"
      ],
      "text/plain": [
       "        Ship Mode    Segment        Country             City       State  \\\n",
       "0    Second Class   Consumer  United States        Henderson    Kentucky   \n",
       "1    Second Class   Consumer  United States        Henderson    Kentucky   \n",
       "2    Second Class  Corporate  United States      Los Angeles  California   \n",
       "3  Standard Class   Consumer  United States  Fort Lauderdale     Florida   \n",
       "4  Standard Class   Consumer  United States  Fort Lauderdale     Florida   \n",
       "\n",
       "   Postal Code Region         Category Sub-Category     Sales  Quantity  \\\n",
       "0        42420  South        Furniture    Bookcases  261.9600         2   \n",
       "1        42420  South        Furniture       Chairs  731.9400         3   \n",
       "2        90036   West  Office Supplies       Labels   14.6200         2   \n",
       "3        33311  South        Furniture       Tables  957.5775         5   \n",
       "4        33311  South  Office Supplies      Storage   22.3680         2   \n",
       "\n",
       "   Discount    Profit  \n",
       "0      0.00   41.9136  \n",
       "1      0.00  219.5820  \n",
       "2      0.00    6.8714  \n",
       "3      0.45 -383.0310  \n",
       "4      0.20    2.5164  "
      ]
     },
     "execution_count": 7,
     "metadata": {},
     "output_type": "execute_result"
    }
   ],
   "source": [
    "df.head()"
   ]
  },
  {
   "cell_type": "code",
   "execution_count": 8,
   "metadata": {},
   "outputs": [
    {
     "name": "stdout",
     "output_type": "stream",
     "text": [
      "<class 'pandas.core.frame.DataFrame'>\n",
      "RangeIndex: 9994 entries, 0 to 9993\n",
      "Data columns (total 13 columns):\n",
      " #   Column        Non-Null Count  Dtype  \n",
      "---  ------        --------------  -----  \n",
      " 0   Ship Mode     9994 non-null   object \n",
      " 1   Segment       9994 non-null   object \n",
      " 2   Country       9994 non-null   object \n",
      " 3   City          9994 non-null   object \n",
      " 4   State         9994 non-null   object \n",
      " 5   Postal Code   9994 non-null   int64  \n",
      " 6   Region        9994 non-null   object \n",
      " 7   Category      9994 non-null   object \n",
      " 8   Sub-Category  9994 non-null   object \n",
      " 9   Sales         9994 non-null   float64\n",
      " 10  Quantity      9994 non-null   int64  \n",
      " 11  Discount      9994 non-null   float64\n",
      " 12  Profit        9994 non-null   float64\n",
      "dtypes: float64(3), int64(2), object(8)\n",
      "memory usage: 1015.1+ KB\n"
     ]
    }
   ],
   "source": [
    "df.info()"
   ]
  },
  {
   "cell_type": "markdown",
   "metadata": {},
   "source": [
    "#### classifying data into regions"
   ]
  },
  {
   "cell_type": "code",
   "execution_count": 9,
   "metadata": {},
   "outputs": [
    {
     "data": {
      "text/plain": [
       "<matplotlib.axes._subplots.AxesSubplot at 0x24b7f7b3fd0>"
      ]
     },
     "execution_count": 9,
     "metadata": {},
     "output_type": "execute_result"
    },
    {
     "data": {
      "image/png": "[encoded data removed]",
      "text/plain": [
       "<Figure size 432x288 with 1 Axes>"
      ]
     },
     "metadata": {
      "needs_background": "light"
     },
     "output_type": "display_data"
    }
   ],
   "source": [
    "data=df.copy()\n",
    "data.groupby(['Region']).agg({'Profit': ['mean']}).plot.bar()"
   ]
  },
  {
   "cell_type": "markdown",
   "metadata": {},
   "source": [
    "#### it looks like central region is not doing good with respect to other regions"
   ]
  },
  {
   "cell_type": "code",
   "execution_count": 10,
   "metadata": {},
   "outputs": [
    {
     "data": {
      "text/plain": [
       "{'Central': array(['Texas', 'Wisconsin', 'Nebraska', 'Illinois', 'Minnesota',\n",
       "        'Michigan', 'Indiana', 'Iowa', 'Missouri', 'Oklahoma', 'Kansas',\n",
       "        'South Dakota', 'North Dakota'], dtype=object),\n",
       " 'South': array(['Kentucky', 'Florida', 'North Carolina', 'Virginia', 'Tennessee',\n",
       "        'Alabama', 'South Carolina', 'Louisiana', 'Georgia', 'Mississippi',\n",
       "        'Arkansas'], dtype=object),\n",
       " 'East': array(['Pennsylvania', 'Delaware', 'New York', 'Ohio', 'Connecticut',\n",
       "        'New Jersey', 'Massachusetts', 'Rhode Island', 'New Hampshire',\n",
       "        'Maryland', 'District of Columbia', 'Vermont', 'Maine',\n",
       "        'West Virginia'], dtype=object),\n",
       " 'West': array(['California', 'Washington', 'Utah', 'Arizona', 'Oregon',\n",
       "        'Colorado', 'New Mexico', 'Nevada', 'Montana', 'Idaho', 'Wyoming'],\n",
       "       dtype=object)}"
      ]
     },
     "execution_count": 10,
     "metadata": {},
     "output_type": "execute_result"
    }
   ],
   "source": [
    "region=['Central','South','East','West']\n",
    "d={}\n",
    "for i in region:\n",
    "    l=data[data['Region']==i]['State'].unique()\n",
    "    d[i]=l\n",
    "d    "
   ]
  },
  {
   "cell_type": "code",
   "execution_count": 11,
   "metadata": {},
   "outputs": [
    {
     "data": {
      "text/html": [
       "<div>\n",
       "<style scoped>\n",
       "    .dataframe tbody tr th:only-of-type {\n",
       "        vertical-align: middle;\n",
       "    }\n",
       "\n",
       "    .dataframe tbody tr th {\n",
       "        vertical-align: top;\n",
       "    }\n",
       "\n",
       "    .dataframe thead tr th {\n",
       "        text-align: left;\n",
       "    }\n",
       "\n",
       "    .dataframe thead tr:last-of-type th {\n",
       "        text-align: right;\n",
       "    }\n",
       "</style>\n",
       "<table border=\"1\" class=\"dataframe\">\n",
       "  <thead>\n",
       "    <tr>\n",
       "      <th></th>\n",
       "      <th colspan=\"5\" halign=\"left\">Profit</th>\n",
       "    </tr>\n",
       "    <tr>\n",
       "      <th></th>\n",
       "      <th>sum</th>\n",
       "      <th>mean</th>\n",
       "      <th>min</th>\n",
       "      <th>max</th>\n",
       "      <th>count</th>\n",
       "    </tr>\n",
       "    <tr>\n",
       "      <th>State</th>\n",
       "      <th></th>\n",
       "      <th></th>\n",
       "      <th></th>\n",
       "      <th></th>\n",
       "      <th></th>\n",
       "    </tr>\n",
       "  </thead>\n",
       "  <tbody>\n",
       "    <tr>\n",
       "      <th>Ohio</th>\n",
       "      <td>-16971.3766</td>\n",
       "      <td>-36.186304</td>\n",
       "      <td>-6599.9780</td>\n",
       "      <td>607.6080</td>\n",
       "      <td>469</td>\n",
       "    </tr>\n",
       "    <tr>\n",
       "      <th>Colorado</th>\n",
       "      <td>-6527.8579</td>\n",
       "      <td>-35.867351</td>\n",
       "      <td>-3399.9800</td>\n",
       "      <td>247.9960</td>\n",
       "      <td>182</td>\n",
       "    </tr>\n",
       "    <tr>\n",
       "      <th>North Carolina</th>\n",
       "      <td>-7490.9122</td>\n",
       "      <td>-30.083985</td>\n",
       "      <td>-3839.9904</td>\n",
       "      <td>303.8040</td>\n",
       "      <td>249</td>\n",
       "    </tr>\n",
       "    <tr>\n",
       "      <th>Tennessee</th>\n",
       "      <td>-5341.6936</td>\n",
       "      <td>-29.189583</td>\n",
       "      <td>-1237.8462</td>\n",
       "      <td>223.9936</td>\n",
       "      <td>183</td>\n",
       "    </tr>\n",
       "    <tr>\n",
       "      <th>Pennsylvania</th>\n",
       "      <td>-15559.9603</td>\n",
       "      <td>-26.507598</td>\n",
       "      <td>-1665.0522</td>\n",
       "      <td>1119.9968</td>\n",
       "      <td>587</td>\n",
       "    </tr>\n",
       "    <tr>\n",
       "      <th>Texas</th>\n",
       "      <td>-25729.3563</td>\n",
       "      <td>-26.121174</td>\n",
       "      <td>-3701.8928</td>\n",
       "      <td>624.9875</td>\n",
       "      <td>985</td>\n",
       "    </tr>\n",
       "    <tr>\n",
       "      <th>Illinois</th>\n",
       "      <td>-12607.8870</td>\n",
       "      <td>-25.625787</td>\n",
       "      <td>-2929.4845</td>\n",
       "      <td>874.9875</td>\n",
       "      <td>492</td>\n",
       "    </tr>\n",
       "    <tr>\n",
       "      <th>Arizona</th>\n",
       "      <td>-3427.9246</td>\n",
       "      <td>-15.303235</td>\n",
       "      <td>-814.4832</td>\n",
       "      <td>211.4955</td>\n",
       "      <td>224</td>\n",
       "    </tr>\n",
       "    <tr>\n",
       "      <th>Oregon</th>\n",
       "      <td>-1190.4705</td>\n",
       "      <td>-9.600569</td>\n",
       "      <td>-384.7164</td>\n",
       "      <td>228.0792</td>\n",
       "      <td>124</td>\n",
       "    </tr>\n",
       "    <tr>\n",
       "      <th>Florida</th>\n",
       "      <td>-3399.3017</td>\n",
       "      <td>-8.875461</td>\n",
       "      <td>-1811.0784</td>\n",
       "      <td>327.5922</td>\n",
       "      <td>383</td>\n",
       "    </tr>\n",
       "    <tr>\n",
       "      <th>New Mexico</th>\n",
       "      <td>1157.1161</td>\n",
       "      <td>31.273408</td>\n",
       "      <td>-5.6943</td>\n",
       "      <td>138.3552</td>\n",
       "      <td>37</td>\n",
       "    </tr>\n",
       "    <tr>\n",
       "      <th>North Dakota</th>\n",
       "      <td>230.1497</td>\n",
       "      <td>32.878529</td>\n",
       "      <td>0.8680</td>\n",
       "      <td>162.0948</td>\n",
       "      <td>7</td>\n",
       "    </tr>\n",
       "    <tr>\n",
       "      <th>South Dakota</th>\n",
       "      <td>394.8283</td>\n",
       "      <td>32.902358</td>\n",
       "      <td>1.3068</td>\n",
       "      <td>132.5898</td>\n",
       "      <td>12</td>\n",
       "    </tr>\n",
       "    <tr>\n",
       "      <th>Kansas</th>\n",
       "      <td>836.4435</td>\n",
       "      <td>34.851813</td>\n",
       "      <td>1.7280</td>\n",
       "      <td>149.3820</td>\n",
       "      <td>24</td>\n",
       "    </tr>\n",
       "    <tr>\n",
       "      <th>California</th>\n",
       "      <td>76381.3871</td>\n",
       "      <td>38.171608</td>\n",
       "      <td>-325.5720</td>\n",
       "      <td>1906.4850</td>\n",
       "      <td>2001</td>\n",
       "    </tr>\n",
       "    <tr>\n",
       "      <th>Idaho</th>\n",
       "      <td>826.7231</td>\n",
       "      <td>39.367767</td>\n",
       "      <td>1.1151</td>\n",
       "      <td>259.5297</td>\n",
       "      <td>21</td>\n",
       "    </tr>\n",
       "    <tr>\n",
       "      <th>Iowa</th>\n",
       "      <td>1183.8119</td>\n",
       "      <td>39.460397</td>\n",
       "      <td>2.5920</td>\n",
       "      <td>394.2680</td>\n",
       "      <td>30</td>\n",
       "    </tr>\n",
       "    <tr>\n",
       "      <th>South Carolina</th>\n",
       "      <td>1769.0566</td>\n",
       "      <td>42.120395</td>\n",
       "      <td>0.5584</td>\n",
       "      <td>422.5100</td>\n",
       "      <td>42</td>\n",
       "    </tr>\n",
       "    <tr>\n",
       "      <th>Connecticut</th>\n",
       "      <td>3511.4918</td>\n",
       "      <td>42.823071</td>\n",
       "      <td>-15.5826</td>\n",
       "      <td>294.6710</td>\n",
       "      <td>82</td>\n",
       "    </tr>\n",
       "    <tr>\n",
       "      <th>West Virginia</th>\n",
       "      <td>185.9216</td>\n",
       "      <td>46.480400</td>\n",
       "      <td>-76.9536</td>\n",
       "      <td>219.4416</td>\n",
       "      <td>4</td>\n",
       "    </tr>\n",
       "    <tr>\n",
       "      <th>Utah</th>\n",
       "      <td>2546.5335</td>\n",
       "      <td>48.047802</td>\n",
       "      <td>0.2016</td>\n",
       "      <td>449.9850</td>\n",
       "      <td>53</td>\n",
       "    </tr>\n",
       "    <tr>\n",
       "      <th>Massachusetts</th>\n",
       "      <td>6785.5016</td>\n",
       "      <td>50.262975</td>\n",
       "      <td>-297.6848</td>\n",
       "      <td>503.7822</td>\n",
       "      <td>135</td>\n",
       "    </tr>\n",
       "    <tr>\n",
       "      <th>Louisiana</th>\n",
       "      <td>2196.1023</td>\n",
       "      <td>52.288150</td>\n",
       "      <td>1.8672</td>\n",
       "      <td>346.0396</td>\n",
       "      <td>42</td>\n",
       "    </tr>\n",
       "    <tr>\n",
       "      <th>Nebraska</th>\n",
       "      <td>2037.0942</td>\n",
       "      <td>53.607742</td>\n",
       "      <td>0.2016</td>\n",
       "      <td>743.9880</td>\n",
       "      <td>38</td>\n",
       "    </tr>\n",
       "    <tr>\n",
       "      <th>Maine</th>\n",
       "      <td>454.4862</td>\n",
       "      <td>56.810775</td>\n",
       "      <td>3.8822</td>\n",
       "      <td>131.3550</td>\n",
       "      <td>8</td>\n",
       "    </tr>\n",
       "    <tr>\n",
       "      <th>Mississippi</th>\n",
       "      <td>3172.9762</td>\n",
       "      <td>59.867475</td>\n",
       "      <td>0.0000</td>\n",
       "      <td>388.8128</td>\n",
       "      <td>53</td>\n",
       "    </tr>\n",
       "    <tr>\n",
       "      <th>New Hampshire</th>\n",
       "      <td>1706.5028</td>\n",
       "      <td>63.203807</td>\n",
       "      <td>-105.3164</td>\n",
       "      <td>517.4793</td>\n",
       "      <td>27</td>\n",
       "    </tr>\n",
       "    <tr>\n",
       "      <th>New York</th>\n",
       "      <td>74038.5486</td>\n",
       "      <td>65.637011</td>\n",
       "      <td>-553.6476</td>\n",
       "      <td>3919.9888</td>\n",
       "      <td>1128</td>\n",
       "    </tr>\n",
       "    <tr>\n",
       "      <th>Washington</th>\n",
       "      <td>33402.6517</td>\n",
       "      <td>66.013146</td>\n",
       "      <td>-73.0548</td>\n",
       "      <td>6719.9808</td>\n",
       "      <td>506</td>\n",
       "    </tr>\n",
       "    <tr>\n",
       "      <th>Arkansas</th>\n",
       "      <td>4008.6871</td>\n",
       "      <td>66.811452</td>\n",
       "      <td>1.4190</td>\n",
       "      <td>843.1706</td>\n",
       "      <td>60</td>\n",
       "    </tr>\n",
       "    <tr>\n",
       "      <th>Maryland</th>\n",
       "      <td>7031.1788</td>\n",
       "      <td>66.963608</td>\n",
       "      <td>-47.1798</td>\n",
       "      <td>1270.9900</td>\n",
       "      <td>105</td>\n",
       "    </tr>\n",
       "    <tr>\n",
       "      <th>Oklahoma</th>\n",
       "      <td>4853.9560</td>\n",
       "      <td>73.544788</td>\n",
       "      <td>0.5520</td>\n",
       "      <td>523.7052</td>\n",
       "      <td>66</td>\n",
       "    </tr>\n",
       "    <tr>\n",
       "      <th>New Jersey</th>\n",
       "      <td>9772.9138</td>\n",
       "      <td>75.176260</td>\n",
       "      <td>-31.3722</td>\n",
       "      <td>2365.9818</td>\n",
       "      <td>130</td>\n",
       "    </tr>\n",
       "    <tr>\n",
       "      <th>Wisconsin</th>\n",
       "      <td>8401.8004</td>\n",
       "      <td>76.380004</td>\n",
       "      <td>0.2598</td>\n",
       "      <td>673.8816</td>\n",
       "      <td>110</td>\n",
       "    </tr>\n",
       "    <tr>\n",
       "      <th>Kentucky</th>\n",
       "      <td>11199.6966</td>\n",
       "      <td>80.573357</td>\n",
       "      <td>0.0000</td>\n",
       "      <td>1416.8000</td>\n",
       "      <td>139</td>\n",
       "    </tr>\n",
       "    <tr>\n",
       "      <th>Virginia</th>\n",
       "      <td>18597.9504</td>\n",
       "      <td>83.026564</td>\n",
       "      <td>0.0000</td>\n",
       "      <td>2799.9840</td>\n",
       "      <td>224</td>\n",
       "    </tr>\n",
       "    <tr>\n",
       "      <th>Nevada</th>\n",
       "      <td>3316.7659</td>\n",
       "      <td>85.045279</td>\n",
       "      <td>-109.5822</td>\n",
       "      <td>1644.2913</td>\n",
       "      <td>39</td>\n",
       "    </tr>\n",
       "    <tr>\n",
       "      <th>Georgia</th>\n",
       "      <td>16250.0433</td>\n",
       "      <td>88.315453</td>\n",
       "      <td>0.1134</td>\n",
       "      <td>3177.4750</td>\n",
       "      <td>184</td>\n",
       "    </tr>\n",
       "    <tr>\n",
       "      <th>Alabama</th>\n",
       "      <td>5786.8253</td>\n",
       "      <td>94.865989</td>\n",
       "      <td>0.0000</td>\n",
       "      <td>1459.2000</td>\n",
       "      <td>61</td>\n",
       "    </tr>\n",
       "    <tr>\n",
       "      <th>Michigan</th>\n",
       "      <td>24463.1876</td>\n",
       "      <td>95.934069</td>\n",
       "      <td>0.0000</td>\n",
       "      <td>4946.3700</td>\n",
       "      <td>255</td>\n",
       "    </tr>\n",
       "    <tr>\n",
       "      <th>Missouri</th>\n",
       "      <td>6436.2105</td>\n",
       "      <td>97.518341</td>\n",
       "      <td>2.2990</td>\n",
       "      <td>2302.9671</td>\n",
       "      <td>66</td>\n",
       "    </tr>\n",
       "    <tr>\n",
       "      <th>Wyoming</th>\n",
       "      <td>100.1960</td>\n",
       "      <td>100.196000</td>\n",
       "      <td>100.1960</td>\n",
       "      <td>100.1960</td>\n",
       "      <td>1</td>\n",
       "    </tr>\n",
       "    <tr>\n",
       "      <th>Delaware</th>\n",
       "      <td>9977.3748</td>\n",
       "      <td>103.930988</td>\n",
       "      <td>-48.7839</td>\n",
       "      <td>5039.9856</td>\n",
       "      <td>96</td>\n",
       "    </tr>\n",
       "    <tr>\n",
       "      <th>District of Columbia</th>\n",
       "      <td>1059.5893</td>\n",
       "      <td>105.958930</td>\n",
       "      <td>4.4344</td>\n",
       "      <td>648.5624</td>\n",
       "      <td>10</td>\n",
       "    </tr>\n",
       "    <tr>\n",
       "      <th>Minnesota</th>\n",
       "      <td>10823.1874</td>\n",
       "      <td>121.608847</td>\n",
       "      <td>0.0000</td>\n",
       "      <td>4630.4755</td>\n",
       "      <td>89</td>\n",
       "    </tr>\n",
       "    <tr>\n",
       "      <th>Montana</th>\n",
       "      <td>1833.3285</td>\n",
       "      <td>122.221900</td>\n",
       "      <td>2.2098</td>\n",
       "      <td>1379.9770</td>\n",
       "      <td>15</td>\n",
       "    </tr>\n",
       "    <tr>\n",
       "      <th>Indiana</th>\n",
       "      <td>18382.9363</td>\n",
       "      <td>123.375411</td>\n",
       "      <td>0.0000</td>\n",
       "      <td>8399.9760</td>\n",
       "      <td>149</td>\n",
       "    </tr>\n",
       "    <tr>\n",
       "      <th>Rhode Island</th>\n",
       "      <td>7285.6293</td>\n",
       "      <td>130.100523</td>\n",
       "      <td>-127.5792</td>\n",
       "      <td>2591.9568</td>\n",
       "      <td>56</td>\n",
       "    </tr>\n",
       "    <tr>\n",
       "      <th>Vermont</th>\n",
       "      <td>2244.9783</td>\n",
       "      <td>204.088936</td>\n",
       "      <td>0.9588</td>\n",
       "      <td>1013.1270</td>\n",
       "      <td>11</td>\n",
       "    </tr>\n",
       "  </tbody>\n",
       "</table>\n",
       "</div>"
      ],
      "text/plain": [
       "                          Profit                                        \n",
       "                             sum        mean        min        max count\n",
       "State                                                                   \n",
       "Ohio                 -16971.3766  -36.186304 -6599.9780   607.6080   469\n",
       "Colorado              -6527.8579  -35.867351 -3399.9800   247.9960   182\n",
       "North Carolina        -7490.9122  -30.083985 -3839.9904   303.8040   249\n",
       "Tennessee             -5341.6936  -29.189583 -1237.8462   223.9936   183\n",
       "Pennsylvania         -15559.9603  -26.507598 -1665.0522  1119.9968   587\n",
       "Texas                -25729.3563  -26.121174 -3701.8928   624.9875   985\n",
       "Illinois             -12607.8870  -25.625787 -2929.4845   874.9875   492\n",
       "Arizona               -3427.9246  -15.303235  -814.4832   211.4955   224\n",
       "Oregon                -1190.4705   -9.600569  -384.7164   228.0792   124\n",
       "Florida               -3399.3017   -8.875461 -1811.0784   327.5922   383\n",
       "New Mexico             1157.1161   31.273408    -5.6943   138.3552    37\n",
       "North Dakota            230.1497   32.878529     0.8680   162.0948     7\n",
       "South Dakota            394.8283   32.902358     1.3068   132.5898    12\n",
       "Kansas                  836.4435   34.851813     1.7280   149.3820    24\n",
       "California            76381.3871   38.171608  -325.5720  1906.4850  2001\n",
       "Idaho                   826.7231   39.367767     1.1151   259.5297    21\n",
       "Iowa                   1183.8119   39.460397     2.5920   394.2680    30\n",
       "South Carolina         1769.0566   42.120395     0.5584   422.5100    42\n",
       "Connecticut            3511.4918   42.823071   -15.5826   294.6710    82\n",
       "West Virginia           185.9216   46.480400   -76.9536   219.4416     4\n",
       "Utah                   2546.5335   48.047802     0.2016   449.9850    53\n",
       "Massachusetts          6785.5016   50.262975  -297.6848   503.7822   135\n",
       "Louisiana              2196.1023   52.288150     1.8672   346.0396    42\n",
       "Nebraska               2037.0942   53.607742     0.2016   743.9880    38\n",
       "Maine                   454.4862   56.810775     3.8822   131.3550     8\n",
       "Mississippi            3172.9762   59.867475     0.0000   388.8128    53\n",
       "New Hampshire          1706.5028   63.203807  -105.3164   517.4793    27\n",
       "New York              74038.5486   65.637011  -553.6476  3919.9888  1128\n",
       "Washington            33402.6517   66.013146   -73.0548  6719.9808   506\n",
       "Arkansas               4008.6871   66.811452     1.4190   843.1706    60\n",
       "Maryland               7031.1788   66.963608   -47.1798  1270.9900   105\n",
       "Oklahoma               4853.9560   73.544788     0.5520   523.7052    66\n",
       "New Jersey             9772.9138   75.176260   -31.3722  2365.9818   130\n",
       "Wisconsin              8401.8004   76.380004     0.2598   673.8816   110\n",
       "Kentucky              11199.6966   80.573357     0.0000  1416.8000   139\n",
       "Virginia              18597.9504   83.026564     0.0000  2799.9840   224\n",
       "Nevada                 3316.7659   85.045279  -109.5822  1644.2913    39\n",
       "Georgia               16250.0433   88.315453     0.1134  3177.4750   184\n",
       "Alabama                5786.8253   94.865989     0.0000  1459.2000    61\n",
       "Michigan              24463.1876   95.934069     0.0000  4946.3700   255\n",
       "Missouri               6436.2105   97.518341     2.2990  2302.9671    66\n",
       "Wyoming                 100.1960  100.196000   100.1960   100.1960     1\n",
       "Delaware               9977.3748  103.930988   -48.7839  5039.9856    96\n",
       "District of Columbia   1059.5893  105.958930     4.4344   648.5624    10\n",
       "Minnesota             10823.1874  121.608847     0.0000  4630.4755    89\n",
       "Montana                1833.3285  122.221900     2.2098  1379.9770    15\n",
       "Indiana               18382.9363  123.375411     0.0000  8399.9760   149\n",
       "Rhode Island           7285.6293  130.100523  -127.5792  2591.9568    56\n",
       "Vermont                2244.9783  204.088936     0.9588  1013.1270    11"
      ]
     },
     "execution_count": 11,
     "metadata": {},
     "output_type": "execute_result"
    }
   ],
   "source": [
    "grouped=data.groupby(['State']).agg({'Profit': ['sum','mean','min', 'max','count']})\n",
    "states=grouped.sort_values(('Profit','mean'))\n",
    "states"
   ]
  },
  {
   "cell_type": "code",
   "execution_count": 12,
   "metadata": {},
   "outputs": [
    {
     "data": {
      "image/png": "[encoded data removed]",
      "text/plain": [
       "<Figure size 432x288 with 1 Axes>"
      ]
     },
     "metadata": {
      "needs_background": "light"
     },
     "output_type": "display_data"
    },
    {
     "data": {
      "image/png": "[encoded data removed]",
      "text/plain": [
       "<Figure size 432x288 with 1 Axes>"
      ]
     },
     "metadata": {
      "needs_background": "light"
     },
     "output_type": "display_data"
    },
    {
     "data": {
      "image/png": "[encoded data removed]",
      "text/plain": [
       "<Figure size 432x288 with 1 Axes>"
      ]
     },
     "metadata": {
      "needs_background": "light"
     },
     "output_type": "display_data"
    },
    {
     "data": {
      "image/png": "[encoded data removed]",
      "text/plain": [
       "<Figure size 432x288 with 1 Axes>"
      ]
     },
     "metadata": {
      "needs_background": "light"
     },
     "output_type": "display_data"
    }
   ],
   "source": [
    "for i in d:\n",
    "    ax=sns.barplot(y=states.loc[d[i]].index,x=states.loc[d[i]]['Profit']['mean'],orient='h')\n",
    "    ax.set_title(i)\n",
    "    plt.show()"
   ]
  },
  {
   "cell_type": "markdown",
   "metadata": {},
   "source": [
    "#### an interseting thing is east region has both the extreme highest profit state and highest loss state\n",
    "#### so maybe geography has nothing to do with the profit lets dig a little deeper"
   ]
  },
  {
   "cell_type": "markdown",
   "metadata": {},
   "source": [
    "#### visualizing the top loss making states"
   ]
  },
  {
   "cell_type": "code",
   "execution_count": 13,
   "metadata": {},
   "outputs": [
    {
     "data": {
      "image/png": "[encoded data removed]",
      "text/plain": [
       "<Figure size 720x432 with 1 Axes>"
      ]
     },
     "metadata": {
      "needs_background": "light"
     },
     "output_type": "display_data"
    }
   ],
   "source": [
    "plt.figure(figsize=(10,6))\n",
    "sns.barplot(y=states.index[:10],x=states['Profit']['mean'][:10],orient=\"h\")\n",
    "plt.title('top 10 states with highest loss')\n",
    "plt.show()"
   ]
  },
  {
   "cell_type": "code",
   "execution_count": 15,
   "metadata": {},
   "outputs": [
    {
     "data": {
      "image/png": "[encoded data removed]",
      "text/plain": [
       "<Figure size 720x432 with 1 Axes>"
      ]
     },
     "metadata": {
      "needs_background": "light"
     },
     "output_type": "display_data"
    }
   ],
   "source": [
    "plt.figure(figsize=(10,6))\n",
    "sns.barplot(y=states.index[-10:],x=states['Profit']['mean'][-10:],orient=\"h\")\n",
    "plt.title('top 10 states with highest profit')\n",
    "plt.show()"
   ]
  },
  {
   "cell_type": "markdown",
   "metadata": {},
   "source": [
    "### lets take a deeper look at the profits"
   ]
  },
  {
   "cell_type": "code",
   "execution_count": 16,
   "metadata": {},
   "outputs": [],
   "source": [
    "temp=df[df['Profit']>0]"
   ]
  },
  {
   "cell_type": "code",
   "execution_count": 17,
   "metadata": {},
   "outputs": [
    {
     "data": {
      "text/plain": [
       "Text(0.5, 1.0, 'countplot')"
      ]
     },
     "execution_count": 17,
     "metadata": {},
     "output_type": "execute_result"
    },
    {
     "data": {
      "image/png": "[encoded data removed]",
      "text/plain": [
       "<Figure size 720x432 with 2 Axes>"
      ]
     },
     "metadata": {
      "needs_background": "light"
     },
     "output_type": "display_data"
    }
   ],
   "source": [
    "fig,ax=plt.subplots(1,2,figsize=(10,6))\n",
    "sns.barplot(temp['Ship Mode'],temp['Profit'],ax=ax[0])\n",
    "ax[0].set_title('profit')\n",
    "sns.countplot(df['Ship Mode'],ax=ax[1])\n",
    "ax[1].set_title('countplot')"
   ]
  },
  {
   "cell_type": "markdown",
   "metadata": {},
   "source": [
    "#### second class shipping is most common also it gives good profit"
   ]
  },
  {
   "cell_type": "code",
   "execution_count": 18,
   "metadata": {},
   "outputs": [
    {
     "data": {
      "text/plain": [
       "Text(0.5, 1.0, 'countplot')"
      ]
     },
     "execution_count": 18,
     "metadata": {},
     "output_type": "execute_result"
    },
    {
     "data": {
      "image/png": "[encoded data removed]",
      "text/plain": [
       "<Figure size 720x432 with 2 Axes>"
      ]
     },
     "metadata": {
      "needs_background": "light"
     },
     "output_type": "display_data"
    }
   ],
   "source": [
    "fig,ax=plt.subplots(1,2,figsize=(10,6))\n",
    "sns.barplot(temp['Segment'],temp['Profit'],ax=ax[0])\n",
    "ax[0].set_title('profit')\n",
    "sns.countplot(df['Segment'],ax=ax[1])\n",
    "ax[1].set_title('countplot')"
   ]
  },
  {
   "cell_type": "markdown",
   "metadata": {},
   "source": [
    "#### consumer segment are main coustomers but they are not giving great profits"
   ]
  },
  {
   "cell_type": "code",
   "execution_count": 19,
   "metadata": {},
   "outputs": [
    {
     "data": {
      "text/plain": [
       "Office Supplies    5111\n",
       "Technology         1573\n",
       "Furniture          1374\n",
       "Name: Category, dtype: int64"
      ]
     },
     "execution_count": 19,
     "metadata": {},
     "output_type": "execute_result"
    }
   ],
   "source": [
    "temp['Category'].value_counts()"
   ]
  },
  {
   "cell_type": "code",
   "execution_count": 20,
   "metadata": {},
   "outputs": [
    {
     "data": {
      "text/html": [
       "<div>\n",
       "<style scoped>\n",
       "    .dataframe tbody tr th:only-of-type {\n",
       "        vertical-align: middle;\n",
       "    }\n",
       "\n",
       "    .dataframe tbody tr th {\n",
       "        vertical-align: top;\n",
       "    }\n",
       "\n",
       "    .dataframe thead tr th {\n",
       "        text-align: left;\n",
       "    }\n",
       "\n",
       "    .dataframe thead tr:last-of-type th {\n",
       "        text-align: right;\n",
       "    }\n",
       "</style>\n",
       "<table border=\"1\" class=\"dataframe\">\n",
       "  <thead>\n",
       "    <tr>\n",
       "      <th></th>\n",
       "      <th></th>\n",
       "      <th colspan=\"4\" halign=\"left\">Profit</th>\n",
       "    </tr>\n",
       "    <tr>\n",
       "      <th></th>\n",
       "      <th></th>\n",
       "      <th>min</th>\n",
       "      <th>max</th>\n",
       "      <th>count</th>\n",
       "      <th>sum</th>\n",
       "    </tr>\n",
       "    <tr>\n",
       "      <th>Category</th>\n",
       "      <th>Sub-Category</th>\n",
       "      <th></th>\n",
       "      <th></th>\n",
       "      <th></th>\n",
       "      <th></th>\n",
       "    </tr>\n",
       "  </thead>\n",
       "  <tbody>\n",
       "    <tr>\n",
       "      <th rowspan=\"4\" valign=\"top\">Furniture</th>\n",
       "      <th>Bookcases</th>\n",
       "      <td>1.1596</td>\n",
       "      <td>1013.1270</td>\n",
       "      <td>117</td>\n",
       "      <td>8679.6500</td>\n",
       "    </tr>\n",
       "    <tr>\n",
       "      <th>Chairs</th>\n",
       "      <td>1.3098</td>\n",
       "      <td>770.3520</td>\n",
       "      <td>362</td>\n",
       "      <td>36471.0076</td>\n",
       "    </tr>\n",
       "    <tr>\n",
       "      <th>Furnishings</th>\n",
       "      <td>0.4176</td>\n",
       "      <td>387.5676</td>\n",
       "      <td>781</td>\n",
       "      <td>19550.0570</td>\n",
       "    </tr>\n",
       "    <tr>\n",
       "      <th>Tables</th>\n",
       "      <td>2.4898</td>\n",
       "      <td>629.0100</td>\n",
       "      <td>114</td>\n",
       "      <td>14686.6672</td>\n",
       "    </tr>\n",
       "    <tr>\n",
       "      <th rowspan=\"9\" valign=\"top\">Office Supplies</th>\n",
       "      <th>Appliances</th>\n",
       "      <td>0.2925</td>\n",
       "      <td>793.7160</td>\n",
       "      <td>399</td>\n",
       "      <td>26767.6466</td>\n",
       "    </tr>\n",
       "    <tr>\n",
       "      <th>Art</th>\n",
       "      <td>0.1533</td>\n",
       "      <td>112.5740</td>\n",
       "      <td>796</td>\n",
       "      <td>6527.7870</td>\n",
       "    </tr>\n",
       "    <tr>\n",
       "      <th>Binders</th>\n",
       "      <td>0.4704</td>\n",
       "      <td>4946.3700</td>\n",
       "      <td>910</td>\n",
       "      <td>68732.2597</td>\n",
       "    </tr>\n",
       "    <tr>\n",
       "      <th>Envelopes</th>\n",
       "      <td>0.5508</td>\n",
       "      <td>204.0714</td>\n",
       "      <td>254</td>\n",
       "      <td>6964.1767</td>\n",
       "    </tr>\n",
       "    <tr>\n",
       "      <th>Fasteners</th>\n",
       "      <td>0.0792</td>\n",
       "      <td>21.8880</td>\n",
       "      <td>200</td>\n",
       "      <td>982.7134</td>\n",
       "    </tr>\n",
       "    <tr>\n",
       "      <th>Labels</th>\n",
       "      <td>0.6786</td>\n",
       "      <td>385.3752</td>\n",
       "      <td>364</td>\n",
       "      <td>5546.2540</td>\n",
       "    </tr>\n",
       "    <tr>\n",
       "      <th>Paper</th>\n",
       "      <td>1.0700</td>\n",
       "      <td>352.2960</td>\n",
       "      <td>1370</td>\n",
       "      <td>34053.5693</td>\n",
       "    </tr>\n",
       "    <tr>\n",
       "      <th>Storage</th>\n",
       "      <td>0.2034</td>\n",
       "      <td>792.2691</td>\n",
       "      <td>661</td>\n",
       "      <td>27705.1302</td>\n",
       "    </tr>\n",
       "    <tr>\n",
       "      <th>Supplies</th>\n",
       "      <td>0.0628</td>\n",
       "      <td>327.5060</td>\n",
       "      <td>157</td>\n",
       "      <td>1826.5224</td>\n",
       "    </tr>\n",
       "    <tr>\n",
       "      <th rowspan=\"4\" valign=\"top\">Technology</th>\n",
       "      <th>Accessories</th>\n",
       "      <td>0.3399</td>\n",
       "      <td>829.3754</td>\n",
       "      <td>683</td>\n",
       "      <td>42867.2622</td>\n",
       "    </tr>\n",
       "    <tr>\n",
       "      <th>Copiers</th>\n",
       "      <td>59.9980</td>\n",
       "      <td>8399.9760</td>\n",
       "      <td>68</td>\n",
       "      <td>55617.8249</td>\n",
       "    </tr>\n",
       "    <tr>\n",
       "      <th>Machines</th>\n",
       "      <td>3.7570</td>\n",
       "      <td>2799.9840</td>\n",
       "      <td>71</td>\n",
       "      <td>33503.4251</td>\n",
       "    </tr>\n",
       "    <tr>\n",
       "      <th>Phones</th>\n",
       "      <td>0.2598</td>\n",
       "      <td>1228.1787</td>\n",
       "      <td>751</td>\n",
       "      <td>52046.3541</td>\n",
       "    </tr>\n",
       "  </tbody>\n",
       "</table>\n",
       "</div>"
      ],
      "text/plain": [
       "                               Profit                             \n",
       "                                  min        max count         sum\n",
       "Category        Sub-Category                                      \n",
       "Furniture       Bookcases      1.1596  1013.1270   117   8679.6500\n",
       "                Chairs         1.3098   770.3520   362  36471.0076\n",
       "                Furnishings    0.4176   387.5676   781  19550.0570\n",
       "                Tables         2.4898   629.0100   114  14686.6672\n",
       "Office Supplies Appliances     0.2925   793.7160   399  26767.6466\n",
       "                Art            0.1533   112.5740   796   6527.7870\n",
       "                Binders        0.4704  4946.3700   910  68732.2597\n",
       "                Envelopes      0.5508   204.0714   254   6964.1767\n",
       "                Fasteners      0.0792    21.8880   200    982.7134\n",
       "                Labels         0.6786   385.3752   364   5546.2540\n",
       "                Paper          1.0700   352.2960  1370  34053.5693\n",
       "                Storage        0.2034   792.2691   661  27705.1302\n",
       "                Supplies       0.0628   327.5060   157   1826.5224\n",
       "Technology      Accessories    0.3399   829.3754   683  42867.2622\n",
       "                Copiers       59.9980  8399.9760    68  55617.8249\n",
       "                Machines       3.7570  2799.9840    71  33503.4251\n",
       "                Phones         0.2598  1228.1787   751  52046.3541"
      ]
     },
     "execution_count": 20,
     "metadata": {},
     "output_type": "execute_result"
    }
   ],
   "source": [
    "data=temp.copy()\n",
    "grouped_data=data.groupby(['Category','Sub-Category']).agg({'Profit': ['min', 'max','count','sum']})\n",
    "grouped_data"
   ]
  },
  {
   "cell_type": "code",
   "execution_count": 22,
   "metadata": {},
   "outputs": [
    {
     "data": {
      "text/plain": [
       "<matplotlib.axes._subplots.AxesSubplot at 0x24b7fc22190>"
      ]
     },
     "execution_count": 22,
     "metadata": {},
     "output_type": "execute_result"
    },
    {
     "data": {
      "image/png": "[encoded data removed]",
      "text/plain": [
       "<Figure size 432x288 with 1 Axes>"
      ]
     },
     "metadata": {
      "needs_background": "light"
     },
     "output_type": "display_data"
    }
   ],
   "source": [
    "sns.barplot(temp['Category'],temp['Profit'])"
   ]
  },
  {
   "cell_type": "markdown",
   "metadata": {},
   "source": [
    "#### technology and furniture categories are making huge profits even when they are not very common"
   ]
  },
  {
   "cell_type": "code",
   "execution_count": 23,
   "metadata": {},
   "outputs": [
    {
     "data": {
      "text/plain": [
       "<matplotlib.axes._subplots.AxesSubplot at 0x24b7fb577f0>"
      ]
     },
     "execution_count": 23,
     "metadata": {},
     "output_type": "execute_result"
    },
    {
     "data": {
      "image/png": "[encoded data removed]",
      "text/plain": [
       "<Figure size 1152x720 with 1 Axes>"
      ]
     },
     "metadata": {},
     "output_type": "display_data"
    }
   ],
   "source": [
    "sns.set_style('whitegrid')\n",
    "plt.figure(figsize=(16,10))\n",
    "sns.barplot(temp['Profit'],temp['Sub-Category'],orient='h')"
   ]
  },
  {
   "cell_type": "markdown",
   "metadata": {},
   "source": [
    "#### copiers and machines are making great profits while these are the least common products"
   ]
  },
  {
   "cell_type": "code",
   "execution_count": 24,
   "metadata": {},
   "outputs": [
    {
     "data": {
      "text/plain": [
       "<matplotlib.axes._subplots.AxesSubplot at 0x24b7f8d8bb0>"
      ]
     },
     "execution_count": 24,
     "metadata": {},
     "output_type": "execute_result"
    },
    {
     "data": {
      "image/png": "[encoded data removed]",
      "text/plain": [
       "<Figure size 432x288 with 1 Axes>"
      ]
     },
     "metadata": {},
     "output_type": "display_data"
    }
   ],
   "source": [
    "sns.regplot(x='Sales',y='Profit',data=temp)"
   ]
  },
  {
   "cell_type": "code",
   "execution_count": 25,
   "metadata": {},
   "outputs": [
    {
     "data": {
      "text/plain": [
       "<matplotlib.axes._subplots.AxesSubplot at 0x24b7f9dbca0>"
      ]
     },
     "execution_count": 25,
     "metadata": {},
     "output_type": "execute_result"
    },
    {
     "data": {
      "image/png": "[encoded data removed]",
      "text/plain": [
       "<Figure size 432x288 with 1 Axes>"
      ]
     },
     "metadata": {},
     "output_type": "display_data"
    }
   ],
   "source": [
    "sns.barplot(x='Discount',y='Profit',data=temp)"
   ]
  },
  {
   "cell_type": "markdown",
   "metadata": {},
   "source": [
    "#### products listed at 10% and 40% discounts are making good profits which are phones and chairs\n",
    "#### phones and chairs are making good profits as seen in the above graph"
   ]
  },
  {
   "cell_type": "code",
   "execution_count": 27,
   "metadata": {},
   "outputs": [
    {
     "data": {
      "text/html": [
       "<div>\n",
       "<style scoped>\n",
       "    .dataframe tbody tr th:only-of-type {\n",
       "        vertical-align: middle;\n",
       "    }\n",
       "\n",
       "    .dataframe tbody tr th {\n",
       "        vertical-align: top;\n",
       "    }\n",
       "\n",
       "    .dataframe thead th {\n",
       "        text-align: right;\n",
       "    }\n",
       "</style>\n",
       "<table border=\"1\" class=\"dataframe\">\n",
       "  <thead>\n",
       "    <tr style=\"text-align: right;\">\n",
       "      <th></th>\n",
       "      <th>Sub-Category</th>\n",
       "    </tr>\n",
       "  </thead>\n",
       "  <tbody>\n",
       "    <tr>\n",
       "      <th>0</th>\n",
       "      <td>Phones</td>\n",
       "    </tr>\n",
       "  </tbody>\n",
       "</table>\n",
       "</div>"
      ],
      "text/plain": [
       "  Sub-Category\n",
       "0       Phones"
      ]
     },
     "execution_count": 27,
     "metadata": {},
     "output_type": "execute_result"
    }
   ],
   "source": [
    "temp[temp['Discount']==0.4][['Sub-Category']].mode()"
   ]
  },
  {
   "cell_type": "code",
   "execution_count": 28,
   "metadata": {},
   "outputs": [
    {
     "data": {
      "text/html": [
       "<div>\n",
       "<style scoped>\n",
       "    .dataframe tbody tr th:only-of-type {\n",
       "        vertical-align: middle;\n",
       "    }\n",
       "\n",
       "    .dataframe tbody tr th {\n",
       "        vertical-align: top;\n",
       "    }\n",
       "\n",
       "    .dataframe thead th {\n",
       "        text-align: right;\n",
       "    }\n",
       "</style>\n",
       "<table border=\"1\" class=\"dataframe\">\n",
       "  <thead>\n",
       "    <tr style=\"text-align: right;\">\n",
       "      <th></th>\n",
       "      <th>Sub-Category</th>\n",
       "    </tr>\n",
       "  </thead>\n",
       "  <tbody>\n",
       "    <tr>\n",
       "      <th>0</th>\n",
       "      <td>Chairs</td>\n",
       "    </tr>\n",
       "  </tbody>\n",
       "</table>\n",
       "</div>"
      ],
      "text/plain": [
       "  Sub-Category\n",
       "0       Chairs"
      ]
     },
     "execution_count": 28,
     "metadata": {},
     "output_type": "execute_result"
    }
   ],
   "source": [
    "temp[temp['Discount']==0.1][['Sub-Category']].mode()"
   ]
  },
  {
   "cell_type": "code",
   "execution_count": 29,
   "metadata": {},
   "outputs": [
    {
     "data": {
      "text/plain": [
       "<matplotlib.axes._subplots.AxesSubplot at 0x24b7fac4f70>"
      ]
     },
     "execution_count": 29,
     "metadata": {},
     "output_type": "execute_result"
    },
    {
     "data": {
      "image/png": "[encoded data removed]",
      "text/plain": [
       "<Figure size 432x288 with 1 Axes>"
      ]
     },
     "metadata": {},
     "output_type": "display_data"
    }
   ],
   "source": [
    "sns.barplot(x='Quantity',y='Profit',data=temp)"
   ]
  },
  {
   "cell_type": "markdown",
   "metadata": {},
   "source": [
    "#### more quantity more profit also there is a huge jump at profit when quantity is 13"
   ]
  },
  {
   "cell_type": "markdown",
   "metadata": {},
   "source": [
    "### loss"
   ]
  },
  {
   "cell_type": "code",
   "execution_count": 31,
   "metadata": {},
   "outputs": [],
   "source": [
    "temp=df[df['Profit']<0]"
   ]
  },
  {
   "cell_type": "code",
   "execution_count": 32,
   "metadata": {},
   "outputs": [
    {
     "data": {
      "text/plain": [
       "Office Supplies    886\n",
       "Furniture          714\n",
       "Technology         271\n",
       "Name: Category, dtype: int64"
      ]
     },
     "execution_count": 32,
     "metadata": {},
     "output_type": "execute_result"
    }
   ],
   "source": [
    "temp['Category'].value_counts()"
   ]
  },
  {
   "cell_type": "code",
   "execution_count": 33,
   "metadata": {},
   "outputs": [
    {
     "data": {
      "text/html": [
       "<div>\n",
       "<style scoped>\n",
       "    .dataframe tbody tr th:only-of-type {\n",
       "        vertical-align: middle;\n",
       "    }\n",
       "\n",
       "    .dataframe tbody tr th {\n",
       "        vertical-align: top;\n",
       "    }\n",
       "\n",
       "    .dataframe thead tr th {\n",
       "        text-align: left;\n",
       "    }\n",
       "\n",
       "    .dataframe thead tr:last-of-type th {\n",
       "        text-align: right;\n",
       "    }\n",
       "</style>\n",
       "<table border=\"1\" class=\"dataframe\">\n",
       "  <thead>\n",
       "    <tr>\n",
       "      <th></th>\n",
       "      <th></th>\n",
       "      <th colspan=\"4\" halign=\"left\">Profit</th>\n",
       "    </tr>\n",
       "    <tr>\n",
       "      <th></th>\n",
       "      <th></th>\n",
       "      <th>min</th>\n",
       "      <th>max</th>\n",
       "      <th>count</th>\n",
       "      <th>sum</th>\n",
       "    </tr>\n",
       "    <tr>\n",
       "      <th>Category</th>\n",
       "      <th>Sub-Category</th>\n",
       "      <th></th>\n",
       "      <th></th>\n",
       "      <th></th>\n",
       "      <th></th>\n",
       "    </tr>\n",
       "  </thead>\n",
       "  <tbody>\n",
       "    <tr>\n",
       "      <th rowspan=\"4\" valign=\"top\">Furniture</th>\n",
       "      <th>Bookcases</th>\n",
       "      <td>-1665.0522</td>\n",
       "      <td>-3.8864</td>\n",
       "      <td>109</td>\n",
       "      <td>-12152.2060</td>\n",
       "    </tr>\n",
       "    <tr>\n",
       "      <th>Chairs</th>\n",
       "      <td>-630.8820</td>\n",
       "      <td>-0.8999</td>\n",
       "      <td>235</td>\n",
       "      <td>-9880.8413</td>\n",
       "    </tr>\n",
       "    <tr>\n",
       "      <th>Furnishings</th>\n",
       "      <td>-427.4500</td>\n",
       "      <td>-0.3398</td>\n",
       "      <td>167</td>\n",
       "      <td>-6490.9134</td>\n",
       "    </tr>\n",
       "    <tr>\n",
       "      <th>Tables</th>\n",
       "      <td>-1862.3124</td>\n",
       "      <td>-0.8886</td>\n",
       "      <td>203</td>\n",
       "      <td>-32412.1483</td>\n",
       "    </tr>\n",
       "    <tr>\n",
       "      <th rowspan=\"5\" valign=\"top\">Office Supplies</th>\n",
       "      <th>Appliances</th>\n",
       "      <td>-1181.2824</td>\n",
       "      <td>-1.1100</td>\n",
       "      <td>67</td>\n",
       "      <td>-8629.6412</td>\n",
       "    </tr>\n",
       "    <tr>\n",
       "      <th>Binders</th>\n",
       "      <td>-3701.8928</td>\n",
       "      <td>-0.5964</td>\n",
       "      <td>613</td>\n",
       "      <td>-38510.4964</td>\n",
       "    </tr>\n",
       "    <tr>\n",
       "      <th>Fasteners</th>\n",
       "      <td>-11.8256</td>\n",
       "      <td>-0.6048</td>\n",
       "      <td>12</td>\n",
       "      <td>-33.1952</td>\n",
       "    </tr>\n",
       "    <tr>\n",
       "      <th>Storage</th>\n",
       "      <td>-337.8060</td>\n",
       "      <td>-0.2098</td>\n",
       "      <td>161</td>\n",
       "      <td>-6426.3038</td>\n",
       "    </tr>\n",
       "    <tr>\n",
       "      <th>Supplies</th>\n",
       "      <td>-1049.3406</td>\n",
       "      <td>-0.3488</td>\n",
       "      <td>33</td>\n",
       "      <td>-3015.6219</td>\n",
       "    </tr>\n",
       "    <tr>\n",
       "      <th rowspan=\"3\" valign=\"top\">Technology</th>\n",
       "      <th>Accessories</th>\n",
       "      <td>-75.5958</td>\n",
       "      <td>-0.0895</td>\n",
       "      <td>91</td>\n",
       "      <td>-930.6265</td>\n",
       "    </tr>\n",
       "    <tr>\n",
       "      <th>Machines</th>\n",
       "      <td>-6599.9780</td>\n",
       "      <td>-1.8295</td>\n",
       "      <td>44</td>\n",
       "      <td>-30118.6682</td>\n",
       "    </tr>\n",
       "    <tr>\n",
       "      <th>Phones</th>\n",
       "      <td>-386.3916</td>\n",
       "      <td>-0.6435</td>\n",
       "      <td>136</td>\n",
       "      <td>-7530.6235</td>\n",
       "    </tr>\n",
       "  </tbody>\n",
       "</table>\n",
       "</div>"
      ],
      "text/plain": [
       "                                 Profit                          \n",
       "                                    min     max count         sum\n",
       "Category        Sub-Category                                     \n",
       "Furniture       Bookcases    -1665.0522 -3.8864   109 -12152.2060\n",
       "                Chairs        -630.8820 -0.8999   235  -9880.8413\n",
       "                Furnishings   -427.4500 -0.3398   167  -6490.9134\n",
       "                Tables       -1862.3124 -0.8886   203 -32412.1483\n",
       "Office Supplies Appliances   -1181.2824 -1.1100    67  -8629.6412\n",
       "                Binders      -3701.8928 -0.5964   613 -38510.4964\n",
       "                Fasteners      -11.8256 -0.6048    12    -33.1952\n",
       "                Storage       -337.8060 -0.2098   161  -6426.3038\n",
       "                Supplies     -1049.3406 -0.3488    33  -3015.6219\n",
       "Technology      Accessories    -75.5958 -0.0895    91   -930.6265\n",
       "                Machines     -6599.9780 -1.8295    44 -30118.6682\n",
       "                Phones        -386.3916 -0.6435   136  -7530.6235"
      ]
     },
     "execution_count": 33,
     "metadata": {},
     "output_type": "execute_result"
    }
   ],
   "source": [
    "data=temp.copy()\n",
    "grouped_data=data.groupby(['Category','Sub-Category']).agg({'Profit': ['min', 'max','count','sum']})\n",
    "grouped_data"
   ]
  },
  {
   "cell_type": "code",
   "execution_count": 34,
   "metadata": {},
   "outputs": [
    {
     "data": {
      "text/plain": [
       "<matplotlib.axes._subplots.AxesSubplot at 0x24b7f90cb80>"
      ]
     },
     "execution_count": 34,
     "metadata": {},
     "output_type": "execute_result"
    },
    {
     "data": {
      "image/png": "[encoded data removed]",
      "text/plain": [
       "<Figure size 432x288 with 1 Axes>"
      ]
     },
     "metadata": {},
     "output_type": "display_data"
    }
   ],
   "source": [
    "sns.barplot(temp['Category'],temp['Profit'])"
   ]
  },
  {
   "cell_type": "code",
   "execution_count": 218,
   "metadata": {},
   "outputs": [
    {
     "data": {
      "text/plain": [
       "<matplotlib.axes._subplots.AxesSubplot at 0x23576cd1d00>"
      ]
     },
     "execution_count": 218,
     "metadata": {},
     "output_type": "execute_result"
    },
    {
     "data": {
      "image/png": "[encoded data removed]",
      "text/plain": [
       "<Figure size 1008x576 with 1 Axes>"
      ]
     },
     "metadata": {},
     "output_type": "display_data"
    }
   ],
   "source": [
    "sns.set_style('whitegrid')\n",
    "plt.figure(figsize=(14,8))\n",
    "sns.barplot(temp['Profit'],temp['Sub-Category'],orient='h')"
   ]
  },
  {
   "cell_type": "markdown",
   "metadata": {},
   "source": [
    "### machines are moking good profits on the same time it is showing great losses too maybe machine may get damaged or get returned a lot because they get faulty"
   ]
  },
  {
   "cell_type": "code",
   "execution_count": 35,
   "metadata": {},
   "outputs": [
    {
     "data": {
      "text/plain": [
       "<matplotlib.axes._subplots.AxesSubplot at 0x24b7f9ccc40>"
      ]
     },
     "execution_count": 35,
     "metadata": {},
     "output_type": "execute_result"
    },
    {
     "data": {
      "image/png": "[encoded data removed]",
      "text/plain": [
       "<Figure size 432x288 with 1 Axes>"
      ]
     },
     "metadata": {},
     "output_type": "display_data"
    }
   ],
   "source": [
    "sns.barplot(x='Discount',y='Profit',data=temp)"
   ]
  },
  {
   "cell_type": "markdown",
   "metadata": {},
   "source": [
    "#### loss is increasing exponentially as the discount is increasing but it dips after 50%"
   ]
  },
  {
   "cell_type": "code",
   "execution_count": 217,
   "metadata": {},
   "outputs": [
    {
     "data": {
      "text/plain": [
       "<matplotlib.axes._subplots.AxesSubplot at 0x23576da98e0>"
      ]
     },
     "execution_count": 217,
     "metadata": {},
     "output_type": "execute_result"
    },
    {
     "data": {
      "image/png": "[encoded data removed]",
      "text/plain": [
       "<Figure size 1440x576 with 1 Axes>"
      ]
     },
     "metadata": {},
     "output_type": "display_data"
    }
   ],
   "source": [
    "data=temp.copy()\n",
    "grouped=data.groupby(['State']).agg({'Sales': 'mean','Discount':'mean','Quantity':'mean'})\n",
    "grouped['Discount'].plot.bar(figsize=(20,8))"
   ]
  },
  {
   "cell_type": "markdown",
   "metadata": {},
   "source": [
    "#### all the states with more than 40% discount are the top loss states"
   ]
  },
  {
   "cell_type": "code",
   "execution_count": 36,
   "metadata": {},
   "outputs": [
    {
     "data": {
      "text/plain": [
       "<matplotlib.axes._subplots.AxesSubplot at 0x24b7fac4610>"
      ]
     },
     "execution_count": 36,
     "metadata": {},
     "output_type": "execute_result"
    },
    {
     "data": {
      "image/png": "[encoded data removed]",
      "text/plain": [
       "<Figure size 432x288 with 1 Axes>"
      ]
     },
     "metadata": {},
     "output_type": "display_data"
    }
   ],
   "source": [
    "sns.barplot(x='Quantity',y='Profit',data=temp)"
   ]
  },
  {
   "cell_type": "markdown",
   "metadata": {},
   "source": [
    "#### quantity 12 and 13 are showing huge losses"
   ]
  },
  {
   "cell_type": "code",
   "execution_count": null,
   "metadata": {},
   "outputs": [],
   "source": []
  },
  {
   "cell_type": "markdown",
   "metadata": {},
   "source": [
    "# insights"
   ]
  },
  {
   "cell_type": "markdown",
   "metadata": {},
   "source": [
    "1. There is are wide customers ordering via second class so we must focus on that ship mode\n",
    "2. Corporate and home office segment should be focussed as they are generating more profits\n",
    "3. Advertising of copier, table, chai etc should be done as they are generating good profits\n",
    "4. Furniture and technology categories should be advertised as the are generating good profits when their quantity is low\n",
    "5. There should be a proper check up of machines before selling\n",
    "6. Discounts should be reduced"
   ]
  },
  {
   "cell_type": "code",
   "execution_count": null,
   "metadata": {},
   "outputs": [],
   "source": []
  }
 ],
 "metadata": {
  "kernelspec": {
   "display_name": "Python 3",
   "language": "python",
   "name": "python3"
  },
  "language_info": {
   "codemirror_mode": {
    "name": "ipython",
    "version": 3
   },
   "file_extension": ".py",
   "mimetype": "text/x-python",
   "name": "python",
   "nbconvert_exporter": "python",
   "pygments_lexer": "ipython3",
   "version": "3.8.3"
  }
 },
 "nbformat": 4,
 "nbformat_minor": 4
}
